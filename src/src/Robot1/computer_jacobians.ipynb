{
 "cells": [
  {
   "cell_type": "code",
   "execution_count": 1,
   "metadata": {},
   "outputs": [
    {
     "data": {
      "text/latex": [
       "$\\displaystyle \\left[\\begin{matrix}x\\\\x_{vel}\\\\y\\end{matrix}\\right]$"
      ],
      "text/plain": [
       "⎡ x  ⎤\n",
       "⎢    ⎥\n",
       "⎢xᵥₑₗ⎥\n",
       "⎢    ⎥\n",
       "⎣ y  ⎦"
      ]
     },
     "metadata": {},
     "output_type": "display_data"
    },
    {
     "data": {
      "text/latex": [
       "$\\displaystyle \\left[\\begin{matrix}\\frac{x}{\\sqrt{x^{2} + y^{2}}} & 0 & \\frac{y}{\\sqrt{x^{2} + y^{2}}}\\end{matrix}\\right]$"
      ],
      "text/plain": [
       "⎡     x                y      ⎤\n",
       "⎢────────────  0  ────────────⎥\n",
       "⎢   _________        _________⎥\n",
       "⎢  ╱  2    2        ╱  2    2 ⎥\n",
       "⎣╲╱  x  + y       ╲╱  x  + y  ⎦"
      ]
     },
     "metadata": {},
     "output_type": "display_data"
    }
   ],
   "source": [
    "import sympy\n",
    "from IPython.display import display\n",
    "sympy.init_printing(use_latex='mathjax')\n",
    "\n",
    "x, x_vel, y = sympy.symbols('x, x_vel y')\n",
    "\n",
    "H = sympy.Matrix([sympy.sqrt(x**2 + y**2)]) # R = sqrt(x^2 + y^2)\n",
    "\n",
    "state = sympy.Matrix([x, x_vel, y])\n",
    "J = H.jacobian(state)\n",
    "\n",
    "display(state)\n",
    "display(J)"
   ]
  },
  {
   "cell_type": "code",
   "execution_count": 6,
   "metadata": {},
   "outputs": [
    {
     "data": {
      "text/latex": [
       "$\\displaystyle \\left[\\begin{matrix}x\\\\y\\\\vx\\\\vy\\end{matrix}\\right]$"
      ],
      "text/plain": [
       "⎡x ⎤\n",
       "⎢  ⎥\n",
       "⎢y ⎥\n",
       "⎢  ⎥\n",
       "⎢vx⎥\n",
       "⎢  ⎥\n",
       "⎣vy⎦"
      ]
     },
     "metadata": {},
     "output_type": "display_data"
    },
    {
     "data": {
      "text/latex": [
       "$\\displaystyle \\left[\\begin{matrix}\\frac{x}{\\sqrt{x^{2} + y^{2}}} & \\frac{y}{\\sqrt{x^{2} + y^{2}}} & 0 & 0\\\\\\frac{y}{x^{2} + y^{2}} & - \\frac{x}{x^{2} + y^{2}} & 0 & 0\\\\\\frac{vx}{\\sqrt{x^{2} + y^{2}}} - \\frac{x \\left(vx x + vy y\\right)}{\\left(x^{2} + y^{2}\\right)^{\\frac{3}{2}}} & \\frac{vy}{\\sqrt{x^{2} + y^{2}}} - \\frac{y \\left(vx x + vy y\\right)}{\\left(x^{2} + y^{2}\\right)^{\\frac{3}{2}}} & \\frac{x}{\\sqrt{x^{2} + y^{2}}} & \\frac{y}{\\sqrt{x^{2} + y^{2}}}\\end{matrix}\\right]$"
      ],
      "text/plain": [
       "⎡              x                               y                              \n",
       "⎢         ────────────                    ────────────                0       \n",
       "⎢            _________                       _________                        \n",
       "⎢           ╱  2    2                       ╱  2    2                         \n",
       "⎢         ╲╱  x  + y                      ╲╱  x  + y                          \n",
       "⎢                                                                             \n",
       "⎢              y                              -x                              \n",
       "⎢           ───────                         ───────                   0       \n",
       "⎢            2    2                          2    2                           \n",
       "⎢           x  + y                          x  + y                            \n",
       "⎢                                                                             \n",
       "⎢     vx        x⋅(vx⋅x + vy⋅y)       vy        y⋅(vx⋅x + vy⋅y)       x       \n",
       "⎢──────────── - ───────────────  ──────────── - ───────────────  ──────────── \n",
       "⎢   _________              3/2      _________              3/2      _________ \n",
       "⎢  ╱  2    2      ⎛ 2    2⎞        ╱  2    2      ⎛ 2    2⎞        ╱  2    2  \n",
       "⎣╲╱  x  + y       ⎝x  + y ⎠      ╲╱  x  + y       ⎝x  + y ⎠      ╲╱  x  + y   \n",
       "\n",
       "             ⎤\n",
       "      0      ⎥\n",
       "             ⎥\n",
       "             ⎥\n",
       "             ⎥\n",
       "             ⎥\n",
       "             ⎥\n",
       "      0      ⎥\n",
       "             ⎥\n",
       "             ⎥\n",
       "             ⎥\n",
       "      y      ⎥\n",
       " ────────────⎥\n",
       "    _________⎥\n",
       "   ╱  2    2 ⎥\n",
       " ╲╱  x  + y  ⎦"
      ]
     },
     "metadata": {},
     "output_type": "display_data"
    }
   ],
   "source": [
    "#from [x, y, vx, vy] --> [r, a, v]\n",
    "x, y, vx, vy = sympy.symbols('x y vx vy')\n",
    "H = sympy.Matrix([sympy.sqrt(x**2 + y**2), sympy.atan2(x,y), (x*vx+y*vy)/(sympy.sqrt(x**2 + y**2))]) # R = sqrt(x^2 + y^2)\n",
    "\n",
    "state = sympy.Matrix([x, y, vx, vy])\n",
    "J = H.jacobian(state)\n",
    "\n",
    "display(state)\n",
    "display(J)"
   ]
  }
 ],
 "metadata": {
  "kernelspec": {
   "display_name": "base",
   "language": "python",
   "name": "python3"
  },
  "language_info": {
   "codemirror_mode": {
    "name": "ipython",
    "version": 3
   },
   "file_extension": ".py",
   "mimetype": "text/x-python",
   "name": "python",
   "nbconvert_exporter": "python",
   "pygments_lexer": "ipython3",
   "version": "3.9.7"
  },
  "orig_nbformat": 4
 },
 "nbformat": 4,
 "nbformat_minor": 2
}
