{
 "cells": [
  {
   "cell_type": "code",
   "execution_count": 3,
   "metadata": {},
   "outputs": [
    {
     "data": {
      "text/latex": [
       "$\\displaystyle \\left[\\begin{matrix}x\\\\x_{vel}\\\\y\\end{matrix}\\right]$"
      ],
      "text/plain": [
       "⎡ x  ⎤\n",
       "⎢    ⎥\n",
       "⎢xᵥₑₗ⎥\n",
       "⎢    ⎥\n",
       "⎣ y  ⎦"
      ]
     },
     "metadata": {},
     "output_type": "display_data"
    },
    {
     "data": {
      "text/latex": [
       "$\\displaystyle \\left[\\begin{matrix}\\frac{x}{\\sqrt{x^{2} + y^{2}}} & 0 & \\frac{y}{\\sqrt{x^{2} + y^{2}}}\\end{matrix}\\right]$"
      ],
      "text/plain": [
       "⎡     x                y      ⎤\n",
       "⎢────────────  0  ────────────⎥\n",
       "⎢   _________        _________⎥\n",
       "⎢  ╱  2    2        ╱  2    2 ⎥\n",
       "⎣╲╱  x  + y       ╲╱  x  + y  ⎦"
      ]
     },
     "metadata": {},
     "output_type": "display_data"
    }
   ],
   "source": [
    "import sympy\n",
    "from IPython.display import display\n",
    "sympy.init_printing(use_latex='mathjax')\n",
    "\n",
    "x, x_vel, y = sympy.symbols('x, x_vel y')\n",
    "\n",
    "H = sympy.Matrix([sympy.sqrt(x**2 + y**2)]) # R = sqrt(x^2 + y^2)\n",
    "\n",
    "state = sympy.Matrix([x, x_vel, y])\n",
    "J = H.jacobian(state)\n",
    "\n",
    "display(state)\n",
    "display(J)"
   ]
  }
 ],
 "metadata": {
  "kernelspec": {
   "display_name": "base",
   "language": "python",
   "name": "python3"
  },
  "language_info": {
   "codemirror_mode": {
    "name": "ipython",
    "version": 3
   },
   "file_extension": ".py",
   "mimetype": "text/x-python",
   "name": "python",
   "nbconvert_exporter": "python",
   "pygments_lexer": "ipython3",
   "version": "3.9.7"
  },
  "orig_nbformat": 4
 },
 "nbformat": 4,
 "nbformat_minor": 2
}
